{
 "cells": [
  {
   "cell_type": "markdown",
   "id": "ec611326",
   "metadata": {},
   "source": [
    "# Import Dependencies"
   ]
  },
  {
   "cell_type": "code",
   "execution_count": 1,
   "id": "e9b87938",
   "metadata": {},
   "outputs": [],
   "source": [
    "import pandas as pd\n",
    "import seaborn as sns\n",
    "import matplotlib.pyplot as plt"
   ]
  },
  {
   "cell_type": "markdown",
   "id": "95675fcd",
   "metadata": {},
   "source": [
    "# Data Loading"
   ]
  },
  {
   "cell_type": "code",
   "execution_count": 2,
   "id": "352f5e27",
   "metadata": {},
   "outputs": [
    {
     "data": {
      "application/vnd.microsoft.datawrangler.viewer.v0+json": {
       "columns": [
        {
         "name": "index",
         "rawType": "int64",
         "type": "integer"
        },
        {
         "name": "id",
         "rawType": "object",
         "type": "string"
        },
        {
         "name": "vendor_id",
         "rawType": "int64",
         "type": "integer"
        },
        {
         "name": "pickup_datetime",
         "rawType": "object",
         "type": "string"
        },
        {
         "name": "dropoff_datetime",
         "rawType": "object",
         "type": "string"
        },
        {
         "name": "passenger_count",
         "rawType": "int64",
         "type": "integer"
        },
        {
         "name": "pickup_longitude",
         "rawType": "float64",
         "type": "float"
        },
        {
         "name": "pickup_latitude",
         "rawType": "float64",
         "type": "float"
        },
        {
         "name": "dropoff_longitude",
         "rawType": "float64",
         "type": "float"
        },
        {
         "name": "dropoff_latitude",
         "rawType": "float64",
         "type": "float"
        },
        {
         "name": "store_and_fwd_flag",
         "rawType": "object",
         "type": "string"
        },
        {
         "name": "trip_duration",
         "rawType": "int64",
         "type": "integer"
        }
       ],
       "ref": "be49cc69-26cd-4ef9-abc7-101e51449242",
       "rows": [
        [
         "0",
         "id2875421",
         "2",
         "2016-03-14 17:24:55",
         "2016-03-14 17:32:30",
         "1",
         "-73.98215484619139",
         "40.76793670654297",
         "-73.96463012695312",
         "40.765602111816406",
         "N",
         "455"
        ],
        [
         "1",
         "id2377394",
         "1",
         "2016-06-12 00:43:35",
         "2016-06-12 00:54:38",
         "1",
         "-73.98041534423827",
         "40.738563537597656",
         "-73.99948120117188",
         "40.731151580810554",
         "N",
         "663"
        ],
        [
         "2",
         "id3858529",
         "2",
         "2016-01-19 11:35:24",
         "2016-01-19 12:10:48",
         "1",
         "-73.97902679443358",
         "40.763938903808594",
         "-74.00533294677734",
         "40.710086822509766",
         "N",
         "2124"
        ],
        [
         "3",
         "id3504673",
         "2",
         "2016-04-06 19:32:31",
         "2016-04-06 19:39:40",
         "1",
         "-74.01004028320312",
         "40.719970703125",
         "-74.01226806640625",
         "40.70671844482422",
         "N",
         "429"
        ],
        [
         "4",
         "id2181028",
         "2",
         "2016-03-26 13:30:55",
         "2016-03-26 13:38:10",
         "1",
         "-73.97305297851561",
         "40.79320907592773",
         "-73.9729232788086",
         "40.782520294189446",
         "N",
         "435"
        ]
       ],
       "shape": {
        "columns": 11,
        "rows": 5
       }
      },
      "text/html": [
       "<div>\n",
       "<style scoped>\n",
       "    .dataframe tbody tr th:only-of-type {\n",
       "        vertical-align: middle;\n",
       "    }\n",
       "\n",
       "    .dataframe tbody tr th {\n",
       "        vertical-align: top;\n",
       "    }\n",
       "\n",
       "    .dataframe thead th {\n",
       "        text-align: right;\n",
       "    }\n",
       "</style>\n",
       "<table border=\"1\" class=\"dataframe\">\n",
       "  <thead>\n",
       "    <tr style=\"text-align: right;\">\n",
       "      <th></th>\n",
       "      <th>id</th>\n",
       "      <th>vendor_id</th>\n",
       "      <th>pickup_datetime</th>\n",
       "      <th>dropoff_datetime</th>\n",
       "      <th>passenger_count</th>\n",
       "      <th>pickup_longitude</th>\n",
       "      <th>pickup_latitude</th>\n",
       "      <th>dropoff_longitude</th>\n",
       "      <th>dropoff_latitude</th>\n",
       "      <th>store_and_fwd_flag</th>\n",
       "      <th>trip_duration</th>\n",
       "    </tr>\n",
       "  </thead>\n",
       "  <tbody>\n",
       "    <tr>\n",
       "      <th>0</th>\n",
       "      <td>id2875421</td>\n",
       "      <td>2</td>\n",
       "      <td>2016-03-14 17:24:55</td>\n",
       "      <td>2016-03-14 17:32:30</td>\n",
       "      <td>1</td>\n",
       "      <td>-73.982155</td>\n",
       "      <td>40.767937</td>\n",
       "      <td>-73.964630</td>\n",
       "      <td>40.765602</td>\n",
       "      <td>N</td>\n",
       "      <td>455</td>\n",
       "    </tr>\n",
       "    <tr>\n",
       "      <th>1</th>\n",
       "      <td>id2377394</td>\n",
       "      <td>1</td>\n",
       "      <td>2016-06-12 00:43:35</td>\n",
       "      <td>2016-06-12 00:54:38</td>\n",
       "      <td>1</td>\n",
       "      <td>-73.980415</td>\n",
       "      <td>40.738564</td>\n",
       "      <td>-73.999481</td>\n",
       "      <td>40.731152</td>\n",
       "      <td>N</td>\n",
       "      <td>663</td>\n",
       "    </tr>\n",
       "    <tr>\n",
       "      <th>2</th>\n",
       "      <td>id3858529</td>\n",
       "      <td>2</td>\n",
       "      <td>2016-01-19 11:35:24</td>\n",
       "      <td>2016-01-19 12:10:48</td>\n",
       "      <td>1</td>\n",
       "      <td>-73.979027</td>\n",
       "      <td>40.763939</td>\n",
       "      <td>-74.005333</td>\n",
       "      <td>40.710087</td>\n",
       "      <td>N</td>\n",
       "      <td>2124</td>\n",
       "    </tr>\n",
       "    <tr>\n",
       "      <th>3</th>\n",
       "      <td>id3504673</td>\n",
       "      <td>2</td>\n",
       "      <td>2016-04-06 19:32:31</td>\n",
       "      <td>2016-04-06 19:39:40</td>\n",
       "      <td>1</td>\n",
       "      <td>-74.010040</td>\n",
       "      <td>40.719971</td>\n",
       "      <td>-74.012268</td>\n",
       "      <td>40.706718</td>\n",
       "      <td>N</td>\n",
       "      <td>429</td>\n",
       "    </tr>\n",
       "    <tr>\n",
       "      <th>4</th>\n",
       "      <td>id2181028</td>\n",
       "      <td>2</td>\n",
       "      <td>2016-03-26 13:30:55</td>\n",
       "      <td>2016-03-26 13:38:10</td>\n",
       "      <td>1</td>\n",
       "      <td>-73.973053</td>\n",
       "      <td>40.793209</td>\n",
       "      <td>-73.972923</td>\n",
       "      <td>40.782520</td>\n",
       "      <td>N</td>\n",
       "      <td>435</td>\n",
       "    </tr>\n",
       "  </tbody>\n",
       "</table>\n",
       "</div>"
      ],
      "text/plain": [
       "          id  vendor_id      pickup_datetime     dropoff_datetime  \\\n",
       "0  id2875421          2  2016-03-14 17:24:55  2016-03-14 17:32:30   \n",
       "1  id2377394          1  2016-06-12 00:43:35  2016-06-12 00:54:38   \n",
       "2  id3858529          2  2016-01-19 11:35:24  2016-01-19 12:10:48   \n",
       "3  id3504673          2  2016-04-06 19:32:31  2016-04-06 19:39:40   \n",
       "4  id2181028          2  2016-03-26 13:30:55  2016-03-26 13:38:10   \n",
       "\n",
       "   passenger_count  pickup_longitude  pickup_latitude  dropoff_longitude  \\\n",
       "0                1        -73.982155        40.767937         -73.964630   \n",
       "1                1        -73.980415        40.738564         -73.999481   \n",
       "2                1        -73.979027        40.763939         -74.005333   \n",
       "3                1        -74.010040        40.719971         -74.012268   \n",
       "4                1        -73.973053        40.793209         -73.972923   \n",
       "\n",
       "   dropoff_latitude store_and_fwd_flag  trip_duration  \n",
       "0         40.765602                  N            455  \n",
       "1         40.731152                  N            663  \n",
       "2         40.710087                  N           2124  \n",
       "3         40.706718                  N            429  \n",
       "4         40.782520                  N            435  "
      ]
     },
     "execution_count": 2,
     "metadata": {},
     "output_type": "execute_result"
    }
   ],
   "source": [
    "train_data = pd.read_csv(\"data/train.csv\")\n",
    "train_data.head()"
   ]
  },
  {
   "cell_type": "code",
   "execution_count": 3,
   "id": "3195d1b5",
   "metadata": {},
   "outputs": [
    {
     "name": "stdout",
     "output_type": "stream",
     "text": [
      "Number of rows: 1,458,644\n",
      "Number of columns: 11\n"
     ]
    }
   ],
   "source": [
    "# Count number of rows and columns\n",
    "rows, cols = train_data.shape\n",
    "\n",
    "print(f\"Number of rows: {rows:,}\")\n",
    "print(f\"Number of columns: {cols}\")"
   ]
  },
  {
   "cell_type": "code",
   "execution_count": 4,
   "id": "b1c17c11",
   "metadata": {},
   "outputs": [
    {
     "name": "stdout",
     "output_type": "stream",
     "text": [
      "<class 'pandas.core.frame.DataFrame'>\n",
      "RangeIndex: 1458644 entries, 0 to 1458643\n",
      "Data columns (total 11 columns):\n",
      " #   Column              Non-Null Count    Dtype  \n",
      "---  ------              --------------    -----  \n",
      " 0   id                  1458644 non-null  object \n",
      " 1   vendor_id           1458644 non-null  int64  \n",
      " 2   pickup_datetime     1458644 non-null  object \n",
      " 3   dropoff_datetime    1458644 non-null  object \n",
      " 4   passenger_count     1458644 non-null  int64  \n",
      " 5   pickup_longitude    1458644 non-null  float64\n",
      " 6   pickup_latitude     1458644 non-null  float64\n",
      " 7   dropoff_longitude   1458644 non-null  float64\n",
      " 8   dropoff_latitude    1458644 non-null  float64\n",
      " 9   store_and_fwd_flag  1458644 non-null  object \n",
      " 10  trip_duration       1458644 non-null  int64  \n",
      "dtypes: float64(4), int64(3), object(4)\n",
      "memory usage: 122.4+ MB\n"
     ]
    }
   ],
   "source": [
    "train_data.info()"
   ]
  },
  {
   "cell_type": "code",
   "execution_count": 5,
   "id": "41d45433",
   "metadata": {},
   "outputs": [
    {
     "name": "stdout",
     "output_type": "stream",
     "text": [
      "<class 'pandas.core.frame.DataFrame'>\n",
      "RangeIndex: 1458644 entries, 0 to 1458643\n",
      "Data columns (total 11 columns):\n",
      " #   Column              Non-Null Count    Dtype  \n",
      "---  ------              --------------    -----  \n",
      " 0   id                  1458644 non-null  object \n",
      " 1   vendor_id           1458644 non-null  int64  \n",
      " 2   pickup_datetime     1458644 non-null  object \n",
      " 3   dropoff_datetime    1458644 non-null  object \n",
      " 4   passenger_count     1458644 non-null  int64  \n",
      " 5   pickup_longitude    1458644 non-null  float64\n",
      " 6   pickup_latitude     1458644 non-null  float64\n",
      " 7   dropoff_longitude   1458644 non-null  float64\n",
      " 8   dropoff_latitude    1458644 non-null  float64\n",
      " 9   store_and_fwd_flag  1458644 non-null  object \n",
      " 10  trip_duration       1458644 non-null  int64  \n",
      "dtypes: float64(4), int64(3), object(4)\n",
      "memory usage: 122.4+ MB\n"
     ]
    }
   ],
   "source": [
    "train_data.info()"
   ]
  },
  {
   "cell_type": "markdown",
   "id": "11e073db",
   "metadata": {},
   "source": [
    "# Data Cleaning\n",
    "\n",
    "## Summary of Findings\n",
    "\n",
    "**Duplicate Records**\n",
    "- There are no duplicated rows.\n",
    "\n",
    "**Irrelevant Features**\n",
    "- `id` is not needed as this is just an identifier and should not have any predictive power.\n",
    "- `dropoff_datetime` should not be included because this feature is not available at prediction time and contains future information that can cause data leakage (hence why it is also not present in the test set).\n",
    "- `store_and_fwd_flag` does not really hold any meaningful data relating to the trip duration. Additionally, it has extremely low variance, with 99% of the data containing a value of `N`. So, it's safe to remove this feature to also minimize noise.\n",
    "\n",
    "**Incorrect Data Types**\n",
    "- `vendor_id` should be converted to `category` type.\n",
    "- `pickup_datetime` should be `datetime`.\n",
    "\n",
    "**Missing Values**\n",
    "- There are no missing values across all columns.\n",
    "\n",
    "**Invalid / Out of Range Values**\n",
    "- `passenger_count` has values of `0` (no passengers) and reaches as high as 9 passengers, which is unrealistic for the capacity of a taxi in NYC. Thus, records with no passengers or counts greater than 5 will be excluded to reflect reality.\n",
    "- `trip_duration` has both too low (1 second) and too high (900+ hours) duration values. \n",
    "\n",
    "**Outliers**\n",
    "- c\n"
   ]
  },
  {
   "cell_type": "markdown",
   "id": "c63d518c",
   "metadata": {},
   "source": [
    "## Identifying Data Issues"
   ]
  },
  {
   "cell_type": "markdown",
   "id": "8c29c900",
   "metadata": {},
   "source": [
    "### Duplicates"
   ]
  },
  {
   "cell_type": "code",
   "execution_count": 6,
   "id": "195661d1",
   "metadata": {},
   "outputs": [
    {
     "name": "stdout",
     "output_type": "stream",
     "text": [
      "Number of duplicate records: 0\n"
     ]
    }
   ],
   "source": [
    "# Check for duplicates\n",
    "num_duplicates = train_data.duplicated().sum()\n",
    "print(f\"Number of duplicate records: {num_duplicates}\")"
   ]
  },
  {
   "cell_type": "markdown",
   "id": "4d00c560",
   "metadata": {},
   "source": [
    "### Irrelevant Features"
   ]
  },
  {
   "cell_type": "code",
   "execution_count": 7,
   "id": "d40042c8",
   "metadata": {},
   "outputs": [
    {
     "data": {
      "application/vnd.microsoft.datawrangler.viewer.v0+json": {
       "columns": [
        {
         "name": "store_and_fwd_flag",
         "rawType": "object",
         "type": "string"
        },
        {
         "name": "proportion",
         "rawType": "float64",
         "type": "float"
        }
       ],
       "ref": "00d67b8c-e79f-41b6-9f98-663d25fe478f",
       "rows": [
        [
         "N",
         "0.994484603508464"
        ],
        [
         "Y",
         "0.005515396491535975"
        ]
       ],
       "shape": {
        "columns": 1,
        "rows": 2
       }
      },
      "text/plain": [
       "store_and_fwd_flag\n",
       "N    0.994485\n",
       "Y    0.005515\n",
       "Name: proportion, dtype: float64"
      ]
     },
     "execution_count": 7,
     "metadata": {},
     "output_type": "execute_result"
    }
   ],
   "source": [
    "# Check if `store_and_fwd_flag` has low variance\n",
    "train_data.value_counts(\"store_and_fwd_flag\", normalize=True)"
   ]
  },
  {
   "cell_type": "markdown",
   "id": "a4c76bca",
   "metadata": {},
   "source": [
    "Since the vast majority (99%) of records contain the value `N` for `store_and_fwd_flag`, this shows that the feature has extremely low variance. This means that the column can be safely dropped because the low variance would cause the feature to have low predictive power and may just introduce noise to the data."
   ]
  },
  {
   "cell_type": "markdown",
   "id": "db457c7a",
   "metadata": {},
   "source": [
    "### Missing Values"
   ]
  },
  {
   "cell_type": "code",
   "execution_count": 8,
   "id": "6a98c729",
   "metadata": {},
   "outputs": [
    {
     "name": "stdout",
     "output_type": "stream",
     "text": [
      "Missing values per column:\n",
      "id                    0\n",
      "vendor_id             0\n",
      "pickup_datetime       0\n",
      "dropoff_datetime      0\n",
      "passenger_count       0\n",
      "pickup_longitude      0\n",
      "pickup_latitude       0\n",
      "dropoff_longitude     0\n",
      "dropoff_latitude      0\n",
      "store_and_fwd_flag    0\n",
      "trip_duration         0\n",
      "dtype: int64\n"
     ]
    }
   ],
   "source": [
    "# Check for missing data\n",
    "print(\"Missing values per column:\")\n",
    "print(train_data.isna().sum())"
   ]
  },
  {
   "cell_type": "markdown",
   "id": "74b764dd",
   "metadata": {},
   "source": [
    "### Invalid / Out of Range Values"
   ]
  },
  {
   "cell_type": "code",
   "execution_count": 9,
   "id": "f4a35451",
   "metadata": {},
   "outputs": [
    {
     "data": {
      "text/plain": [
       "[2, 1]"
      ]
     },
     "execution_count": 9,
     "metadata": {},
     "output_type": "execute_result"
    }
   ],
   "source": [
    "# Check for invalid/inconsistent categories\n",
    "train_data[\"vendor_id\"].unique().tolist()\n"
   ]
  },
  {
   "cell_type": "markdown",
   "id": "cb3b4a00",
   "metadata": {},
   "source": [
    "The categories in `vendor_id` are as expected (two taxi vendors), so no inconsistent values exist here."
   ]
  },
  {
   "cell_type": "code",
   "execution_count": 10,
   "id": "ddf4ad09",
   "metadata": {},
   "outputs": [
    {
     "data": {
      "application/vnd.microsoft.datawrangler.viewer.v0+json": {
       "columns": [
        {
         "name": "index",
         "rawType": "object",
         "type": "string"
        },
        {
         "name": "passenger_count",
         "rawType": "int64",
         "type": "integer"
        }
       ],
       "ref": "4b200637-bded-4409-9608-2145e6dd96eb",
       "rows": [
        [
         "min",
         "0"
        ],
        [
         "max",
         "9"
        ]
       ],
       "shape": {
        "columns": 1,
        "rows": 2
       }
      },
      "text/plain": [
       "min    0\n",
       "max    9\n",
       "Name: passenger_count, dtype: int64"
      ]
     },
     "execution_count": 10,
     "metadata": {},
     "output_type": "execute_result"
    }
   ],
   "source": [
    "# Check for suspicious passenger counts\n",
    "train_data[\"passenger_count\"].apply([\"min\", \"max\"])"
   ]
  },
  {
   "cell_type": "markdown",
   "id": "c6f5d0c2",
   "metadata": {},
   "source": [
    "According to [NYC.gov](https://www.nyc.gov/site/tlc/passengers/passenger-frequently-asked-questions.page), The max limit of an NYC taxi should be 5 passengers. So, passenger counts greater than this should be removed to reflect reality.\n",
    "\n",
    "Additionally, records with a passenger count of 0 will also be removed as a taxi trip should have at least one passenger."
   ]
  },
  {
   "cell_type": "code",
   "execution_count": 11,
   "id": "348eb921",
   "metadata": {},
   "outputs": [
    {
     "name": "stdout",
     "output_type": "stream",
     "text": [
      "Number of rows affected: 48,398\n",
      "Proportion of data: 3.32%\n"
     ]
    }
   ],
   "source": [
    "# Count how many rows are affected\n",
    "unrealistic_passengers = len(train_data[(train_data[\"passenger_count\"] == 0) | (train_data[\"passenger_count\"] > 5)])\n",
    "\n",
    "print(f\"Number of rows affected: {unrealistic_passengers:,}\")\n",
    "print(f\"Proportion of data: {unrealistic_passengers / len(train_data) * 100:.2f}%\")"
   ]
  },
  {
   "cell_type": "code",
   "execution_count": 12,
   "id": "c1afe4a7",
   "metadata": {},
   "outputs": [
    {
     "data": {
      "application/vnd.microsoft.datawrangler.viewer.v0+json": {
       "columns": [
        {
         "name": "index",
         "rawType": "object",
         "type": "string"
        },
        {
         "name": "duration_secs",
         "rawType": "float64",
         "type": "float"
        },
        {
         "name": "duration_mins",
         "rawType": "float64",
         "type": "float"
        },
        {
         "name": "duration_hrs",
         "rawType": "float64",
         "type": "float"
        }
       ],
       "ref": "25c20ab9-6406-45b3-a119-4b731b15d75d",
       "rows": [
        [
         "min",
         "1.0",
         "0.016666666666666666",
         "0.0002777777777777778"
        ],
        [
         "25%",
         "397.0",
         "6.616666666666666",
         "0.11027777777777778"
        ],
        [
         "50%",
         "662.0",
         "11.033333333333333",
         "0.18388888888888888"
        ],
        [
         "75%",
         "1075.0",
         "17.916666666666668",
         "0.2986111111111111"
        ],
        [
         "max",
         "3526282.0",
         "58771.36666666667",
         "979.5227777777778"
        ]
       ],
       "shape": {
        "columns": 3,
        "rows": 5
       }
      },
      "text/html": [
       "<div>\n",
       "<style scoped>\n",
       "    .dataframe tbody tr th:only-of-type {\n",
       "        vertical-align: middle;\n",
       "    }\n",
       "\n",
       "    .dataframe tbody tr th {\n",
       "        vertical-align: top;\n",
       "    }\n",
       "\n",
       "    .dataframe thead th {\n",
       "        text-align: right;\n",
       "    }\n",
       "</style>\n",
       "<table border=\"1\" class=\"dataframe\">\n",
       "  <thead>\n",
       "    <tr style=\"text-align: right;\">\n",
       "      <th></th>\n",
       "      <th>duration_secs</th>\n",
       "      <th>duration_mins</th>\n",
       "      <th>duration_hrs</th>\n",
       "    </tr>\n",
       "  </thead>\n",
       "  <tbody>\n",
       "    <tr>\n",
       "      <th>min</th>\n",
       "      <td>1.0</td>\n",
       "      <td>0.016667</td>\n",
       "      <td>0.000278</td>\n",
       "    </tr>\n",
       "    <tr>\n",
       "      <th>25%</th>\n",
       "      <td>397.0</td>\n",
       "      <td>6.616667</td>\n",
       "      <td>0.110278</td>\n",
       "    </tr>\n",
       "    <tr>\n",
       "      <th>50%</th>\n",
       "      <td>662.0</td>\n",
       "      <td>11.033333</td>\n",
       "      <td>0.183889</td>\n",
       "    </tr>\n",
       "    <tr>\n",
       "      <th>75%</th>\n",
       "      <td>1075.0</td>\n",
       "      <td>17.916667</td>\n",
       "      <td>0.298611</td>\n",
       "    </tr>\n",
       "    <tr>\n",
       "      <th>max</th>\n",
       "      <td>3526282.0</td>\n",
       "      <td>58771.366667</td>\n",
       "      <td>979.522778</td>\n",
       "    </tr>\n",
       "  </tbody>\n",
       "</table>\n",
       "</div>"
      ],
      "text/plain": [
       "     duration_secs  duration_mins  duration_hrs\n",
       "min            1.0       0.016667      0.000278\n",
       "25%          397.0       6.616667      0.110278\n",
       "50%          662.0      11.033333      0.183889\n",
       "75%         1075.0      17.916667      0.298611\n",
       "max      3526282.0   58771.366667    979.522778"
      ]
     },
     "execution_count": 12,
     "metadata": {},
     "output_type": "execute_result"
    }
   ],
   "source": [
    "# Check for suspicious trip durations\n",
    "trip_times_converted = pd.DataFrame({\n",
    "    \"duration_secs\": train_data[\"trip_duration\"],\n",
    "    \"duration_mins\": train_data[\"trip_duration\"] / 60,\n",
    "    \"duration_hrs\": train_data[\"trip_duration\"] / 3600 \n",
    "})\n",
    "\n",
    "trip_times_converted.describe().loc[['min', '25%', '50%', '75%', 'max']]"
   ]
  },
  {
   "cell_type": "code",
   "execution_count": 19,
   "id": "6fe3c34c",
   "metadata": {},
   "outputs": [
    {
     "data": {
      "image/png": "[encoded data removed]",
      "text/plain": [
       "<Figure size 640x480 with 1 Axes>"
      ]
     },
     "metadata": {},
     "output_type": "display_data"
    }
   ],
   "source": [
    "sns.histplot(data=trip_times_converted, x=\"duration_mins\", bins=20)\n",
    "plt.show()"
   ]
  },
  {
   "cell_type": "markdown",
   "id": "c3157da6",
   "metadata": {},
   "source": [
    "The trip durations have very short (1 second) and extremely long (~978 hours) duration values, which are far too unrealistic. As reflected in the histogram above, this causes severely skewed data, which can negatively impact model performance.\n",
    "\n",
    "Thus, records with unrealistic durations will be excluded. For this context, the reasonable minimum duration is 1 minute (60 seconds) while the max duration should be 2 hours (7200 seconds). So, only records that fit in this range will be included in the cleaned dataset."
   ]
  },
  {
   "cell_type": "code",
   "execution_count": 32,
   "id": "91d3a1b0",
   "metadata": {},
   "outputs": [
    {
     "data": {
      "image/png": "[encoded data removed]",
      "text/plain": [
       "<Figure size 640x480 with 1 Axes>"
      ]
     },
     "metadata": {},
     "output_type": "display_data"
    }
   ],
   "source": [
    "filtered_duration = train_data[train_data[\"trip_duration\"].between(60, 7200)]\n",
    "\n",
    "sns.histplot(data=filtered_duration, x=\"trip_duration\", bins=20)\n",
    "plt.show()"
   ]
  },
  {
   "cell_type": "markdown",
   "id": "885af21b",
   "metadata": {},
   "source": [
    "Looking at the filtered data above, although the data is still moderately skewed, the durations are now within a more realistic range of values."
   ]
  },
  {
   "cell_type": "code",
   "execution_count": 27,
   "id": "b04c956d",
   "metadata": {},
   "outputs": [
    {
     "name": "stdout",
     "output_type": "stream",
     "text": [
      "Number of rows affected: 2,253\n",
      "Proportion of data: 0.15%\n"
     ]
    }
   ],
   "source": [
    "# Count how many rows are affected\n",
    "unrealistic_durations = len(train_data[(train_data[\"trip_duration\"] < 1) | (train_data[\"trip_duration\"] > 7200)])\n",
    "\n",
    "print(f\"Number of rows affected: {unrealistic_durations:,}\")\n",
    "print(f\"Proportion of data: {unrealistic_durations / len(train_data) * 100:.2f}%\")"
   ]
  },
  {
   "cell_type": "markdown",
   "id": "4fe6e2ce",
   "metadata": {},
   "source": [
    "To find out of range taxi trips, [Wikipedia](https://en.wikipedia.org/wiki/Module:Location_map/data/USA_New_York_City) provided the following border coordinates for NYC:\n",
    "\n",
    "- top = 40.92\n",
    "- bottom = 40.49\n",
    "- left = -74.27\n",
    "- right = -73.68"
   ]
  },
  {
   "cell_type": "code",
   "execution_count": 41,
   "id": "ed2f2e46",
   "metadata": {},
   "outputs": [
    {
     "name": "stdout",
     "output_type": "stream",
     "text": [
      "Number of rows affected: 1,211\n",
      "Proportion of data: 0.08%\n"
     ]
    }
   ],
   "source": [
    "# NYC boundary coordinates\n",
    "lat_top = 40.92\n",
    "lat_bot = 40.49\n",
    "long_left = -74.27\n",
    "long_right = -73.68\n",
    "\n",
    "# Define condition for coordinates within NYC area\n",
    "outside_nyc_bounds = ~(\n",
    "    train_data['pickup_latitude'].between(lat_bot, lat_top) &\n",
    "    train_data['dropoff_latitude'].between(lat_bot, lat_top) &\n",
    "    train_data['pickup_longitude'].between(long_left, long_right) &\n",
    "    train_data['dropoff_longitude'].between(long_left, long_right)\n",
    ")\n",
    "\n",
    "# Check for out of range pickup and dropoff coordinates\n",
    "out_of_nyc_trips = len(train_data[outside_nyc_bounds])\n",
    "print(f\"Number of rows affected: {out_of_nyc_trips:,}\")\n",
    "print(f\"Proportion of data: {out_of_nyc_trips / len(train_data) * 100:.2f}%\")"
   ]
  },
  {
   "cell_type": "markdown",
   "id": "1b77b066",
   "metadata": {},
   "source": [
    "### Outliers"
   ]
  },
  {
   "cell_type": "code",
   "execution_count": 16,
   "id": "1c5c151f",
   "metadata": {},
   "outputs": [],
   "source": [
    "# Check for outliers\n"
   ]
  },
  {
   "cell_type": "markdown",
   "id": "6310b3a7",
   "metadata": {},
   "source": [
    "## Fixing the Issues"
   ]
  },
  {
   "cell_type": "code",
   "execution_count": 42,
   "id": "8b0aa08e",
   "metadata": {},
   "outputs": [
    {
     "name": "stdout",
     "output_type": "stream",
     "text": [
      "<class 'pandas.core.frame.DataFrame'>\n",
      "Index: 1398726 entries, 0 to 1458643\n",
      "Data columns (total 8 columns):\n",
      " #   Column             Non-Null Count    Dtype         \n",
      "---  ------             --------------    -----         \n",
      " 0   vendor_id          1398726 non-null  category      \n",
      " 1   pickup_datetime    1398726 non-null  datetime64[ns]\n",
      " 2   passenger_count    1398726 non-null  int64         \n",
      " 3   pickup_longitude   1398726 non-null  float64       \n",
      " 4   pickup_latitude    1398726 non-null  float64       \n",
      " 5   dropoff_longitude  1398726 non-null  float64       \n",
      " 6   dropoff_latitude   1398726 non-null  float64       \n",
      " 7   trip_duration      1398726 non-null  int64         \n",
      "dtypes: category(1), datetime64[ns](1), float64(4), int64(2)\n",
      "memory usage: 86.7 MB\n"
     ]
    }
   ],
   "source": [
    "# Store cleaned data into a new dataframe\n",
    "train_data_clean = train_data.copy()\n",
    "\n",
    "# Remove irrelevant features\n",
    "irrelevant_cols = [\"id\", \"dropoff_datetime\", \"store_and_fwd_flag\"]\n",
    "train_data_clean = train_data_clean.drop(columns=irrelevant_cols)\n",
    "\n",
    "# Cast the following columns to appropriate data type\n",
    "train_data_clean[\"vendor_id\"] = train_data_clean[\"vendor_id\"].astype(\"category\")\n",
    "train_data_clean[\"pickup_datetime\"] = pd.to_datetime(train_data_clean[\"pickup_datetime\"], errors=\"coerce\")\n",
    "\n",
    "# Subset the following columns to realistic ranges\n",
    "train_data_clean = train_data_clean[train_data_clean[\"passenger_count\"].between(1, 5)] # 1-5 passengers only\n",
    "train_data_clean = train_data_clean[train_data_clean[\"trip_duration\"].between(60, 7200)] # durations from 1min to 2hrs only\n",
    "\n",
    "# Remove records that are outside NYC boundaries\n",
    "in_nyc_bounds = (\n",
    "    train_data_clean['pickup_latitude'].between(lat_bot, lat_top) &\n",
    "    train_data_clean['dropoff_latitude'].between(lat_bot, lat_top) &\n",
    "    train_data_clean['pickup_longitude'].between(long_left, long_right) &\n",
    "    train_data_clean['dropoff_longitude'].between(long_left, long_right)\n",
    ")\n",
    "\n",
    "train_data_clean = train_data_clean[in_nyc_bounds]\n",
    "\n",
    "train_data_clean.info()"
   ]
  },
  {
   "cell_type": "code",
   "execution_count": 43,
   "id": "a8ffa0fc",
   "metadata": {},
   "outputs": [
    {
     "data": {
      "application/vnd.microsoft.datawrangler.viewer.v0+json": {
       "columns": [
        {
         "name": "index",
         "rawType": "int64",
         "type": "integer"
        },
        {
         "name": "vendor_id",
         "rawType": "category",
         "type": "unknown"
        },
        {
         "name": "pickup_datetime",
         "rawType": "datetime64[ns]",
         "type": "datetime"
        },
        {
         "name": "passenger_count",
         "rawType": "int64",
         "type": "integer"
        },
        {
         "name": "pickup_longitude",
         "rawType": "float64",
         "type": "float"
        },
        {
         "name": "pickup_latitude",
         "rawType": "float64",
         "type": "float"
        },
        {
         "name": "dropoff_longitude",
         "rawType": "float64",
         "type": "float"
        },
        {
         "name": "dropoff_latitude",
         "rawType": "float64",
         "type": "float"
        },
        {
         "name": "trip_duration",
         "rawType": "int64",
         "type": "integer"
        }
       ],
       "ref": "542b358b-f662-4523-b8b5-f131973977b1",
       "rows": [
        [
         "0",
         "2",
         "2016-03-14 17:24:55",
         "1",
         "-73.98215484619139",
         "40.76793670654297",
         "-73.96463012695312",
         "40.765602111816406",
         "455"
        ],
        [
         "1",
         "1",
         "2016-06-12 00:43:35",
         "1",
         "-73.98041534423827",
         "40.738563537597656",
         "-73.99948120117188",
         "40.731151580810554",
         "663"
        ],
        [
         "2",
         "2",
         "2016-01-19 11:35:24",
         "1",
         "-73.97902679443358",
         "40.763938903808594",
         "-74.00533294677734",
         "40.710086822509766",
         "2124"
        ],
        [
         "3",
         "2",
         "2016-04-06 19:32:31",
         "1",
         "-74.01004028320312",
         "40.719970703125",
         "-74.01226806640625",
         "40.70671844482422",
         "429"
        ],
        [
         "4",
         "2",
         "2016-03-26 13:30:55",
         "1",
         "-73.97305297851561",
         "40.79320907592773",
         "-73.9729232788086",
         "40.782520294189446",
         "435"
        ]
       ],
       "shape": {
        "columns": 8,
        "rows": 5
       }
      },
      "text/html": [
       "<div>\n",
       "<style scoped>\n",
       "    .dataframe tbody tr th:only-of-type {\n",
       "        vertical-align: middle;\n",
       "    }\n",
       "\n",
       "    .dataframe tbody tr th {\n",
       "        vertical-align: top;\n",
       "    }\n",
       "\n",
       "    .dataframe thead th {\n",
       "        text-align: right;\n",
       "    }\n",
       "</style>\n",
       "<table border=\"1\" class=\"dataframe\">\n",
       "  <thead>\n",
       "    <tr style=\"text-align: right;\">\n",
       "      <th></th>\n",
       "      <th>vendor_id</th>\n",
       "      <th>pickup_datetime</th>\n",
       "      <th>passenger_count</th>\n",
       "      <th>pickup_longitude</th>\n",
       "      <th>pickup_latitude</th>\n",
       "      <th>dropoff_longitude</th>\n",
       "      <th>dropoff_latitude</th>\n",
       "      <th>trip_duration</th>\n",
       "    </tr>\n",
       "  </thead>\n",
       "  <tbody>\n",
       "    <tr>\n",
       "      <th>0</th>\n",
       "      <td>2</td>\n",
       "      <td>2016-03-14 17:24:55</td>\n",
       "      <td>1</td>\n",
       "      <td>-73.982155</td>\n",
       "      <td>40.767937</td>\n",
       "      <td>-73.964630</td>\n",
       "      <td>40.765602</td>\n",
       "      <td>455</td>\n",
       "    </tr>\n",
       "    <tr>\n",
       "      <th>1</th>\n",
       "      <td>1</td>\n",
       "      <td>2016-06-12 00:43:35</td>\n",
       "      <td>1</td>\n",
       "      <td>-73.980415</td>\n",
       "      <td>40.738564</td>\n",
       "      <td>-73.999481</td>\n",
       "      <td>40.731152</td>\n",
       "      <td>663</td>\n",
       "    </tr>\n",
       "    <tr>\n",
       "      <th>2</th>\n",
       "      <td>2</td>\n",
       "      <td>2016-01-19 11:35:24</td>\n",
       "      <td>1</td>\n",
       "      <td>-73.979027</td>\n",
       "      <td>40.763939</td>\n",
       "      <td>-74.005333</td>\n",
       "      <td>40.710087</td>\n",
       "      <td>2124</td>\n",
       "    </tr>\n",
       "    <tr>\n",
       "      <th>3</th>\n",
       "      <td>2</td>\n",
       "      <td>2016-04-06 19:32:31</td>\n",
       "      <td>1</td>\n",
       "      <td>-74.010040</td>\n",
       "      <td>40.719971</td>\n",
       "      <td>-74.012268</td>\n",
       "      <td>40.706718</td>\n",
       "      <td>429</td>\n",
       "    </tr>\n",
       "    <tr>\n",
       "      <th>4</th>\n",
       "      <td>2</td>\n",
       "      <td>2016-03-26 13:30:55</td>\n",
       "      <td>1</td>\n",
       "      <td>-73.973053</td>\n",
       "      <td>40.793209</td>\n",
       "      <td>-73.972923</td>\n",
       "      <td>40.782520</td>\n",
       "      <td>435</td>\n",
       "    </tr>\n",
       "  </tbody>\n",
       "</table>\n",
       "</div>"
      ],
      "text/plain": [
       "  vendor_id     pickup_datetime  passenger_count  pickup_longitude  \\\n",
       "0         2 2016-03-14 17:24:55                1        -73.982155   \n",
       "1         1 2016-06-12 00:43:35                1        -73.980415   \n",
       "2         2 2016-01-19 11:35:24                1        -73.979027   \n",
       "3         2 2016-04-06 19:32:31                1        -74.010040   \n",
       "4         2 2016-03-26 13:30:55                1        -73.973053   \n",
       "\n",
       "   pickup_latitude  dropoff_longitude  dropoff_latitude  trip_duration  \n",
       "0        40.767937         -73.964630         40.765602            455  \n",
       "1        40.738564         -73.999481         40.731152            663  \n",
       "2        40.763939         -74.005333         40.710087           2124  \n",
       "3        40.719971         -74.012268         40.706718            429  \n",
       "4        40.793209         -73.972923         40.782520            435  "
      ]
     },
     "execution_count": 43,
     "metadata": {},
     "output_type": "execute_result"
    }
   ],
   "source": [
    "train_data_clean.head()"
   ]
  },
  {
   "cell_type": "markdown",
   "id": "6a82d20a",
   "metadata": {},
   "source": [
    "# Feature Engineering"
   ]
  },
  {
   "cell_type": "code",
   "execution_count": null,
   "id": "8c46f4fb",
   "metadata": {},
   "outputs": [],
   "source": []
  },
  {
   "cell_type": "markdown",
   "id": "ac728b4a",
   "metadata": {},
   "source": [
    "# Exploratory Data Analysis"
   ]
  },
  {
   "cell_type": "markdown",
   "id": "9ed14d80",
   "metadata": {},
   "source": [
    "## Descriptive Statistics"
   ]
  },
  {
   "cell_type": "code",
   "execution_count": null,
   "id": "b447a523",
   "metadata": {},
   "outputs": [],
   "source": []
  },
  {
   "cell_type": "markdown",
   "id": "ab7d31e7",
   "metadata": {},
   "source": [
    "## Univariate Analysis"
   ]
  },
  {
   "cell_type": "code",
   "execution_count": null,
   "id": "be4a04d2",
   "metadata": {},
   "outputs": [],
   "source": []
  },
  {
   "cell_type": "markdown",
   "id": "648f57d3",
   "metadata": {},
   "source": [
    "## Bivariate Analysis"
   ]
  },
  {
   "cell_type": "code",
   "execution_count": null,
   "id": "a2c5e449",
   "metadata": {},
   "outputs": [],
   "source": []
  },
  {
   "cell_type": "markdown",
   "id": "593a07f5",
   "metadata": {},
   "source": [
    "## Summary of Insights\n",
    "\n",
    "- c"
   ]
  },
  {
   "cell_type": "markdown",
   "id": "da054582",
   "metadata": {},
   "source": [
    "# Data Preprocessing"
   ]
  },
  {
   "cell_type": "code",
   "execution_count": null,
   "id": "8a914a68",
   "metadata": {},
   "outputs": [],
   "source": []
  },
  {
   "cell_type": "markdown",
   "id": "85fd0c81",
   "metadata": {},
   "source": [
    "# Modeling\n",
    "\n",
    "- Model Selection\n",
    "- Training\n",
    "- Evaluation\n",
    "- Hyperparameter Tuning\n",
    "- Saving Best Model"
   ]
  },
  {
   "cell_type": "code",
   "execution_count": null,
   "id": "05d195e6",
   "metadata": {},
   "outputs": [],
   "source": []
  },
  {
   "cell_type": "markdown",
   "id": "75a45e58",
   "metadata": {},
   "source": [
    "# Generating Predictions"
   ]
  },
  {
   "cell_type": "code",
   "execution_count": null,
   "id": "5bbaa7aa",
   "metadata": {},
   "outputs": [],
   "source": []
  },
  {
   "cell_type": "markdown",
   "id": "5bf624dc",
   "metadata": {},
   "source": [
    "# Conclusions and Recommendations\n",
    "\n",
    "- c"
   ]
  }
 ],
 "metadata": {
  "kernelspec": {
   "display_name": "Python 3",
   "language": "python",
   "name": "python3"
  },
  "language_info": {
   "codemirror_mode": {
    "name": "ipython",
    "version": 3
   },
   "file_extension": ".py",
   "mimetype": "text/x-python",
   "name": "python",
   "nbconvert_exporter": "python",
   "pygments_lexer": "ipython3",
   "version": "3.12.4"
  }
 },
 "nbformat": 4,
 "nbformat_minor": 5
}
